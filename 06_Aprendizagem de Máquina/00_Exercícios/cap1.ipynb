{
 "cells": [
  {
   "cell_type": "markdown",
   "metadata": {},
   "source": [
    "Aprendizagem de Máquinas\n",
    "\n",
    "Exercício 1 - Lista 1\n",
    "\n",
    "Por Thiago Barros\n",
    "\n",
    "Mãos à Obra: Aprendizado de Máquina com Scikit-Learn & TensorFlow"
   ]
  },
  {
   "cell_type": "markdown",
   "metadata": {},
   "source": [
    "1) Como você definiria o Aprendizado de Máquina?\n",
    "\n",
    "R: O aprendizado de máquina é a ciência de ensinar as máquinas a resolverem alguns tipos de problemas por meio de dados"
   ]
  },
  {
   "cell_type": "markdown",
   "metadata": {},
   "source": [
    "2) Você saberia nomear quatro tipos de problemas nos quais o AM se destaca?\n",
    "\n",
    "R: \n",
    "Problemas com alto grau de complexidade para meios tradicionais.\n",
    "Problemas onde existem mudanças constantes no conjunto de informações (Flutuação dos Dados),\n",
    "Problemas onde existem mudanças nas estruturas das regras para resolução (Conforme o imput muda, as regras de resolução mudam, ou seja, novos algoritmos)\n",
    "Problemas que exigem grande volume de dados."
   ]
  },
  {
   "cell_type": "markdown",
   "metadata": {},
   "source": [
    "3) O que é um conjunto de treinamento rotulado?\n",
    "\n",
    "Um conjunto de dados rotulado é aquela cuja a instância é classificada por meio de um rótulo que será usado para predizer nosva instâncias. Ex: Um conjunto de dados referentes a emails com classificação de spam ou não spam."
   ]
  },
  {
   "cell_type": "markdown",
   "metadata": {},
   "source": [
    "4) Quais são as duas tarefas supervisionadas mais comuns?\n",
    "\n",
    "R:\n",
    "Classificação\n",
    "Regressão"
   ]
  },
  {
   "cell_type": "markdown",
   "metadata": {},
   "source": [
    "5) Você consegue nomear quatro tarefas comuns sem supervisão?\n",
    "\n",
    "R:\n",
    "\n",
    "clustering, visualização, redução da\n",
    "dimensionalidade e aprendizado de regras de associação."
   ]
  },
  {
   "cell_type": "markdown",
   "metadata": {},
   "source": [
    "6) Que tipo de algoritmo de Aprendizado de Máquina você utilizaria para permitir\n",
    "que um robô ande em vários terrenos desconhecidos?\n",
    "\n",
    "R: Aprendizado de Reforço"
   ]
  },
  {
   "cell_type": "markdown",
   "metadata": {},
   "source": [
    "7)  Que tipo de algoritmo você utilizaria para segmentar seus clientes em vários grupos?\n",
    "\n",
    "R: Clusterização"
   ]
  },
  {
   "cell_type": "markdown",
   "metadata": {},
   "source": [
    "8. Você enquadraria o problema da detecção de spam como um problema de aprendizado supervisionado ou sem supervisão?\n",
    "\n",
    "R: se utilizar uma base de dados para treinamento do algoritmo e outra com instâncias para validar o algoritmo, têm-se então que classifica como aprendizado supervisionado, porém, é possível integrar ambos os paradigmas a depender da necessidade."
   ]
  },
  {
   "cell_type": "markdown",
   "metadata": {},
   "source": [
    "9. O que é um sistema de aprendizado online?\n",
    "\n",
    "O sistema de aprendizado online é aquele cujo o processo é incremental e se alimenta sequencialmente as instâncias de dados individualmente ou com pequenos grupos de dados."
   ]
  },
  {
   "cell_type": "markdown",
   "metadata": {},
   "source": [
    "10. O que é o out-of-core learning?\n",
    "\n",
    "É o tipo de aprendizado online onde os algoritmos carregam partes dos dados, executam uma etapa do treinamento nesses dados, repete o processo até que toda a base de dados tenha sido avaliada para treinamento."
   ]
  },
  {
   "cell_type": "markdown",
   "metadata": {},
   "source": [
    "11. Que tipo de algoritmo de aprendizado depende de uma medida de similaridade\n",
    "para fazer previsões?\n",
    "\n",
    "O algoritmo de aprendizado baseado em instância onde o sistema aprende com exemplos por meio de memorização e em seguida generaliza novos casos utlizando uma medida de similaridade. (Ex: o algoritmo usa a similaridade entre emails spam usando uma métrica como número de palavras ou caracteres)"
   ]
  },
  {
   "cell_type": "markdown",
   "metadata": {},
   "source": [
    "12. Qual a diferença entre um parâmetro de modelo e o hiperparâmetro do algoritmo\n",
    "de aprendizado?\n",
    "\n",
    "Um parâmetro do modelo é um valor que faz parte do modelo, como por exemplo, o coeficiente angular. O hiperparâmetro é um parâmetro aplicado ao algoritmo de serve para ajustar o aprendizado do algoritmo."
   ]
  },
  {
   "cell_type": "markdown",
   "metadata": {},
   "source": [
    "13. O que os algoritmos de aprendizado baseados em modelos procuram? Qual\n",
    "é a estratégia mais comum que eles utilizam para ter sucesso? Como fazem\n",
    "previsões?\n",
    "\n",
    "O algoritmo de aprendizado baseado em modelos busca obter generalizações além da base de dados estabelicida para a definição do modelo. O modelo tenta aproximar o comportamento de um conjunto de dados que estejam relativamento correlacionados para descrever esse comportamento matemáticamente e relaciona-los. A estratégia mais comum consiste em usar uma base de dados separando-a com um conjunto de dados para treinamento, criar o modelo com base na base de treinamento e avaliar o resultado do modelo com a porção de validação."
   ]
  },
  {
   "cell_type": "markdown",
   "metadata": {},
   "source": [
    "14. Você pode citar quatro dos principais desafios no Aprendizado de Máquina?\n",
    "\n",
    "R: \n",
    "1 - Lidar com Dados Viesados\n",
    "2 - Lidar com Dados Insuficientes\n",
    "3 - Lidar com Dados Não representativos\n",
    "4 - Lidar com Problemas de Generalização (Sobreajuste ou Subajuste)"
   ]
  },
  {
   "cell_type": "markdown",
   "metadata": {},
   "source": [
    "15. Se o seu modelo é ótimo nos dados de treinamento, mas generaliza mal para no-\n",
    "vas instâncias, o que está acontecendo? Você pode nomear três soluções possíveis?\n",
    "\n",
    "O que está acontecendo é que o modelo não apresenta capacidade para fazer predição com valores fora do conjunto de treinamento. Isso é chamado de overfitting ou sobreajuste. Ou se o modelo for simples demais para o processo de explicação do fenômeno real. Existem algumas maneiras de melhorar esse modelo.\n",
    "\n",
    "Existe algumas maneiras:\n",
    "\n",
    "Regularizar o modelo: Consiste em restrigir os parâmetros do modelo para evitar risco de sobreajuste\n",
    "\n",
    "Melhorar a base de dados \n",
    "\n",
    "Testar vários modelos e verificar o que apresenta menor erro de predição"
   ]
  },
  {
   "cell_type": "markdown",
   "metadata": {},
   "source": [
    "16. O que é um conjunto de testes e por que você o utilizaria?\n",
    "\n",
    "Dentro do conjunto de dados para criação e treinamento, existe a parcela que será usada para o o processo de aprendizagem. O conjunto de testes seria aquele conjunto que modelos definidos serão avaliados para verificar o percentual de erro entre o valor predito e o valor estimado."
   ]
  },
  {
   "cell_type": "markdown",
   "metadata": {},
   "source": [
    "17. Qual é o propósito de um conjunto de validação?\n",
    "\n",
    "O conjunto de validação é aquele que será usado para avaliar o modelo e algoritmo definido como final para eferir a capacidade do modelo ser preditor."
   ]
  },
  {
   "cell_type": "markdown",
   "metadata": {},
   "source": [
    "18. O que pode dar errado se você ajustar os hiperparâmetros utilizando o conjunto\n",
    "de teste?\n",
    "\n",
    "O modelo cai no mesmo problema do sobreajuste e acaba se limitando ao conjunto de teste."
   ]
  },
  {
   "cell_type": "markdown",
   "metadata": {},
   "source": [
    "19. O que é validação cruzada e por que você preferiria usá-la ao invés de um\n",
    "conjunto de validação?\n",
    " \n",
    " Na validação cruzada, o conjunto de treinmamento é dividido em subcojuntos complementares e cada modelo é treinado por uma combinação diferente desses conjuntos e validado em relação as partes restantes.\n",
    "\n",
    " Definido o modelo e hiperparâmetros ideais, um modelo final é treinado com a autilização desses hiperparâmetros no conjunto completo de treinamento e o erro generalizado é medido no conjunto de testes."
   ]
  }
 ],
 "metadata": {
  "kernelspec": {
   "display_name": "base",
   "language": "python",
   "name": "python3"
  },
  "language_info": {
   "name": "python",
   "version": "3.11.7"
  }
 },
 "nbformat": 4,
 "nbformat_minor": 2
}
