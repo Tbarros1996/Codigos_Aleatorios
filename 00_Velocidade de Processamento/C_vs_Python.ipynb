{
 "cells": [
  {
   "cell_type": "markdown",
   "metadata": {},
   "source": [
    "#### Comparativo de Velocidade de Processamento Entre Python e C para um mesmo problema matemático"
   ]
  },
  {
   "cell_type": "markdown",
   "metadata": {},
   "source": [
    "O objetivo dessa análise é realizar um comparativo entre um problema de cálculo de divisores de um determinado valor. O usuário entra com um determinado valor, e dentro de um loop, que parte de 1 até o valor, o algorimo calcula se o próximo valor da interação e divisor desse valor limite.\n",
    "\n",
    "Isso não significa que uma linguagem seja melhor que outra. Python e C possuem propostas de usabilidade diferente para cada uma delas. Cada uma atende o seu público e são extremamente importantes no contexto geral da computação.\n"
   ]
  },
  {
   "cell_type": "markdown",
   "metadata": {},
   "source": [
    "- O código em Python"
   ]
  },
  {
   "cell_type": "code",
   "execution_count": null,
   "metadata": {},
   "outputs": [],
   "source": [
    "import time as tm\n",
    "import pandas as pd\n",
    "x = int(input(\"Entre com o Valor: \"))\n",
    "interacao = []\n",
    "inicio = tm.time()\n",
    "tempo =[]\n",
    "inter = 0\n",
    "\n",
    "for i in range(1, x+1):\n",
    "    interacao.append(i-1)\n",
    "    agora = tm.time()\n",
    "    tempo.append(round(agora-inicio,2))\n",
    "    if x % i == 0:\n",
    "        print(i)\n",
    "\n",
    "curva_interacao = pd.DataFrame({'Tempo de Processamento':tempo, 'Interacoes': interacao})\n",
    "curva_interacao.to_csv(\"processamento.csv\",index=False)"
   ]
  },
  {
   "cell_type": "markdown",
   "metadata": {},
   "source": [
    "- O código em C"
   ]
  },
  {
   "cell_type": "code",
   "execution_count": null,
   "metadata": {},
   "outputs": [],
   "source": [
    "#include <stdio.h>\n",
    "#include <stdlib.h>\n",
    "#include <time.h>\n",
    "\n",
    "int main() {\n",
    "    int x, i;\n",
    "    clock_t inicio;\n",
    "    double tempo;\n",
    "    int *interacao;\n",
    "    double *tempos;\n",
    "\n",
    "    printf(\"Entre com o Valor: \");\n",
    "    scanf(\"%d\", &x);\n",
    "\n",
    "    interacao = (int*)malloc(x * sizeof(int));\n",
    "    tempos = (double*)malloc(x * sizeof(double));\n",
    "\n",
    "    inicio = clock();\n",
    "\n",
    "    for (i = 1; i <= x; i++) {\n",
    "        interacao[i - 1] = i - 1;\n",
    "        tempo = (double)(clock() - inicio) / CLOCKS_PER_SEC;\n",
    "        tempos[i - 1] = tempo;\n",
    "\n",
    "        if (x % i == 0) {\n",
    "            printf(\"%d\\n\", i);\n",
    "        }\n",
    "    }\n",
    "\n",
    "    FILE *fp;\n",
    "    fp = fopen(\"processamento.csv\", \"w\");\n",
    "    fprintf(fp, \"Tempo de Processamento,Interacoes\\n\");\n",
    "    for (i = 0; i < x; i++) {\n",
    "        fprintf(fp, \"%.2f,%d\\n\", tempos[i], interacao[i]);\n",
    "    }\n",
    "    fclose(fp);\n",
    "\n",
    "    free(interacao);\n",
    "    free(tempos);\n",
    "\n",
    "    return 0;\n",
    "}\n"
   ]
  },
  {
   "cell_type": "markdown",
   "metadata": {},
   "source": [
    "O teste foi realizado em um computador com um Processador Ryzen 5 4600 G com 16 GB de 3200 MHz"
   ]
  },
  {
   "cell_type": "markdown",
   "metadata": {},
   "source": [
    "Foi solicitado em ambos os programas, o cálculo de divisores de 10^7"
   ]
  },
  {
   "cell_type": "code",
   "execution_count": 26,
   "metadata": {},
   "outputs": [],
   "source": [
    "import pandas as pd\n",
    "import matplotlib.pyplot as plt\n",
    "import numpy as np"
   ]
  },
  {
   "cell_type": "code",
   "execution_count": 18,
   "metadata": {},
   "outputs": [],
   "source": [
    "df_python = pd.read_csv(\"processamento_py.csv\")\n",
    "df_c = pd.read_csv(\"processamento_c.csv\")"
   ]
  },
  {
   "cell_type": "code",
   "execution_count": 19,
   "metadata": {},
   "outputs": [
    {
     "name": "stdout",
     "output_type": "stream",
     "text": [
      "10000000 10000000\n"
     ]
    }
   ],
   "source": [
    "# Tamanho da Base de Dados\n",
    "comc = len(df_c)\n",
    "compy =len(df_python)\n",
    "print(comc,compy)"
   ]
  },
  {
   "cell_type": "code",
   "execution_count": 20,
   "metadata": {},
   "outputs": [
    {
     "name": "stdout",
     "output_type": "stream",
     "text": [
      "Em C Levou: 0.17, em Python Levou: 16.01\n"
     ]
    }
   ],
   "source": [
    "# Tempo Levado para Chegar no Resultado (Em Segundos)\n",
    "\n",
    "max_c = max(df_c[\"Tempo de Processamento_C\"])\n",
    "max_py = max(df_python[\"Tempo de Processamento_Python\"])\n",
    "print(f'Em C Levou: {max_c}, em Python Levou: {max_py}')"
   ]
  },
  {
   "cell_type": "code",
   "execution_count": 21,
   "metadata": {},
   "outputs": [
    {
     "name": "stdout",
     "output_type": "stream",
     "text": [
      "1.061836352279825\n"
     ]
    }
   ],
   "source": [
    "percentual = (max_c/max_py)*100\n",
    "print(percentual)"
   ]
  },
  {
   "cell_type": "markdown",
   "metadata": {},
   "source": [
    "C levou 1% do tempo necessário de Python para realizar o resultado."
   ]
  },
  {
   "cell_type": "markdown",
   "metadata": {},
   "source": [
    "#### A partir de quantas interações, as linguagens divergiram de tempo?"
   ]
  },
  {
   "cell_type": "markdown",
   "metadata": {},
   "source": [
    "Vamos realizar a plotagem dos valores e avaliar o ponto de divergência"
   ]
  },
  {
   "cell_type": "code",
   "execution_count": 22,
   "metadata": {},
   "outputs": [],
   "source": [
    "unificado = pd.merge(df_c,df_python)"
   ]
  },
  {
   "cell_type": "code",
   "execution_count": 25,
   "metadata": {},
   "outputs": [
    {
     "data": {
      "text/html": [
       "<div>\n",
       "<style scoped>\n",
       "    .dataframe tbody tr th:only-of-type {\n",
       "        vertical-align: middle;\n",
       "    }\n",
       "\n",
       "    .dataframe tbody tr th {\n",
       "        vertical-align: top;\n",
       "    }\n",
       "\n",
       "    .dataframe thead th {\n",
       "        text-align: right;\n",
       "    }\n",
       "</style>\n",
       "<table border=\"1\" class=\"dataframe\">\n",
       "  <thead>\n",
       "    <tr style=\"text-align: right;\">\n",
       "      <th></th>\n",
       "      <th>Tempo de Processamento_C</th>\n",
       "      <th>Interacoes</th>\n",
       "      <th>Tempo de Processamento_Python</th>\n",
       "    </tr>\n",
       "  </thead>\n",
       "  <tbody>\n",
       "    <tr>\n",
       "      <th>0</th>\n",
       "      <td>0.0</td>\n",
       "      <td>0</td>\n",
       "      <td>0.0</td>\n",
       "    </tr>\n",
       "    <tr>\n",
       "      <th>1</th>\n",
       "      <td>0.0</td>\n",
       "      <td>1</td>\n",
       "      <td>0.0</td>\n",
       "    </tr>\n",
       "    <tr>\n",
       "      <th>2</th>\n",
       "      <td>0.0</td>\n",
       "      <td>2</td>\n",
       "      <td>0.0</td>\n",
       "    </tr>\n",
       "    <tr>\n",
       "      <th>3</th>\n",
       "      <td>0.0</td>\n",
       "      <td>3</td>\n",
       "      <td>0.0</td>\n",
       "    </tr>\n",
       "    <tr>\n",
       "      <th>4</th>\n",
       "      <td>0.0</td>\n",
       "      <td>4</td>\n",
       "      <td>0.0</td>\n",
       "    </tr>\n",
       "  </tbody>\n",
       "</table>\n",
       "</div>"
      ],
      "text/plain": [
       "   Tempo de Processamento_C  Interacoes  Tempo de Processamento_Python\n",
       "0                       0.0           0                            0.0\n",
       "1                       0.0           1                            0.0\n",
       "2                       0.0           2                            0.0\n",
       "3                       0.0           3                            0.0\n",
       "4                       0.0           4                            0.0"
      ]
     },
     "execution_count": 25,
     "metadata": {},
     "output_type": "execute_result"
    }
   ],
   "source": [
    "unificado.head(5)"
   ]
  },
  {
   "cell_type": "code",
   "execution_count": 29,
   "metadata": {},
   "outputs": [],
   "source": [
    "tempo_c = unificado[\"Tempo de Processamento_C\"]\n",
    "tempo_py = unificado[\"Tempo de Processamento_Python\"]\n",
    "x = unificado[\"Interacoes\"]"
   ]
  },
  {
   "cell_type": "code",
   "execution_count": 50,
   "metadata": {},
   "outputs": [
    {
     "data": {
      "image/png": "[encoded data removed]",
      "text/plain": [
       "<Figure size 640x480 with 1 Axes>"
      ]
     },
     "metadata": {},
     "output_type": "display_data"
    }
   ],
   "source": [
    "# Plot\n",
    "\n",
    "plt.plot(x,tempo_c)\n",
    "plt.plot(x,tempo_py)\n",
    "plt.xlabel(\"Interações\")\n",
    "plt.ylabel(\"Tempo de Execução (em Segundos)\")\n",
    "plt.style.use(style=\"seaborn-v0_8-whitegrid\")\n",
    "plt.title(\"Tempo de Processamento para Cálculo de Divisores - Python vs C\")\n",
    "plt.legend([\"C\",\"Python\"]) \n",
    "plt.show()"
   ]
  },
  {
   "cell_type": "markdown",
   "metadata": {},
   "source": [
    "Conclusões:\n",
    "\n",
    "O uso de uma linguagem ou outra vai depender da necessidade e uso. Python se mantém prático para o uso em análise de dados ou aplicações de aprendizagem de máquina, e C se mantém usual para grandes cálculos e programação com dispositivos como microcontroladores. "
   ]
  }
 ],
 "metadata": {
  "kernelspec": {
   "display_name": "base",
   "language": "python",
   "name": "python3"
  },
  "language_info": {
   "codemirror_mode": {
    "name": "ipython",
    "version": 3
   },
   "file_extension": ".py",
   "mimetype": "text/x-python",
   "name": "python",
   "nbconvert_exporter": "python",
   "pygments_lexer": "ipython3",
   "version": "3.11.7"
  }
 },
 "nbformat": 4,
 "nbformat_minor": 2
}
